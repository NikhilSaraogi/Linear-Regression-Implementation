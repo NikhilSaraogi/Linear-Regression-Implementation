{
 "cells": [
  {
   "cell_type": "code",
   "execution_count": 14,
   "id": "ac9d8e84",
   "metadata": {},
   "outputs": [],
   "source": [
    "import pandas as pd\n",
    "import numpy as np\n",
    "\n",
    "#Generate  'random' data\n",
    "np.random.seed(0)\n",
    "X=2.5 * np.random.rand(100)+1.5 # array of 100 values with mean =1.5,stddev=2.5\n",
    "res= 0.5 * np.random.rand(100) #generate 100 residual terms\n",
    "y= 2+0.3* X +res\n",
    "\n",
    "#create pandas dataframe to store our X and y values\n",
    "df= pd.DataFrame({'X':X,'y':y})\n",
    "xmean=np.mean(df['X'])\n",
    "ymean=np.mean(df['y'])\n",
    "\n",
    "#calculate the terms needed for the numerator and denominator of beta\n",
    "df['xycov']=(df['X']-xmean)*(df['y']-ymean)\n",
    "df['xvar']=(df['X']-xmean)**2"
   ]
  },
  {
   "cell_type": "code",
   "execution_count": 15,
   "id": "21f467f2",
   "metadata": {},
   "outputs": [
    {
     "data": {
      "text/html": [
       "<div>\n",
       "<style scoped>\n",
       "    .dataframe tbody tr th:only-of-type {\n",
       "        vertical-align: middle;\n",
       "    }\n",
       "\n",
       "    .dataframe tbody tr th {\n",
       "        vertical-align: top;\n",
       "    }\n",
       "\n",
       "    .dataframe thead th {\n",
       "        text-align: right;\n",
       "    }\n",
       "</style>\n",
       "<table border=\"1\" class=\"dataframe\">\n",
       "  <thead>\n",
       "    <tr style=\"text-align: right;\">\n",
       "      <th></th>\n",
       "      <th>X</th>\n",
       "      <th>y</th>\n",
       "      <th>xycov</th>\n",
       "      <th>xvar</th>\n",
       "    </tr>\n",
       "  </thead>\n",
       "  <tbody>\n",
       "    <tr>\n",
       "      <th>0</th>\n",
       "      <td>2.872034</td>\n",
       "      <td>3.200518</td>\n",
       "      <td>0.025064</td>\n",
       "      <td>0.036119</td>\n",
       "    </tr>\n",
       "    <tr>\n",
       "      <th>1</th>\n",
       "      <td>3.287973</td>\n",
       "      <td>3.121396</td>\n",
       "      <td>0.031972</td>\n",
       "      <td>0.367222</td>\n",
       "    </tr>\n",
       "    <tr>\n",
       "      <th>2</th>\n",
       "      <td>3.006908</td>\n",
       "      <td>3.269670</td>\n",
       "      <td>0.065321</td>\n",
       "      <td>0.105576</td>\n",
       "    </tr>\n",
       "    <tr>\n",
       "      <th>3</th>\n",
       "      <td>2.862208</td>\n",
       "      <td>3.339757</td>\n",
       "      <td>0.048862</td>\n",
       "      <td>0.032480</td>\n",
       "    </tr>\n",
       "    <tr>\n",
       "      <th>4</th>\n",
       "      <td>2.559137</td>\n",
       "      <td>2.892118</td>\n",
       "      <td>0.021685</td>\n",
       "      <td>0.015092</td>\n",
       "    </tr>\n",
       "  </tbody>\n",
       "</table>\n",
       "</div>"
      ],
      "text/plain": [
       "          X         y     xycov      xvar\n",
       "0  2.872034  3.200518  0.025064  0.036119\n",
       "1  3.287973  3.121396  0.031972  0.367222\n",
       "2  3.006908  3.269670  0.065321  0.105576\n",
       "3  2.862208  3.339757  0.048862  0.032480\n",
       "4  2.559137  2.892118  0.021685  0.015092"
      ]
     },
     "execution_count": 15,
     "metadata": {},
     "output_type": "execute_result"
    }
   ],
   "source": [
    "df.head()"
   ]
  },
  {
   "cell_type": "code",
   "execution_count": 9,
   "id": "187df9c0",
   "metadata": {},
   "outputs": [],
   "source": []
  },
  {
   "cell_type": "code",
   "execution_count": 10,
   "id": "538bd94a",
   "metadata": {},
   "outputs": [],
   "source": []
  },
  {
   "cell_type": "code",
   "execution_count": 11,
   "id": "8415515e",
   "metadata": {},
   "outputs": [
    {
     "name": "stdout",
     "output_type": "stream",
     "text": [
      "alpha=2.3\n",
      "beta=0.29\n"
     ]
    }
   ],
   "source": [
    "#calculate beta and alpha\n",
    "beta= df['xycov'].sum()/df['xvar'].sum()\n",
    "alpha=ymean-(beta*xmean)\n",
    "print(f'alpha={np.round(alpha,2)}')\n",
    "print(f'beta={np.round(beta,2)}')\n",
    "      "
   ]
  },
  {
   "cell_type": "code",
   "execution_count": 12,
   "id": "f8df3b35",
   "metadata": {},
   "outputs": [],
   "source": [
    "ypred=alpha+beta*X"
   ]
  },
  {
   "cell_type": "code",
   "execution_count": 13,
   "id": "1de0b313",
   "metadata": {},
   "outputs": [
    {
     "data": {
      "image/png": "[encoded data removed]",
      "text/plain": [
       "<Figure size 864x432 with 1 Axes>"
      ]
     },
     "metadata": {
      "needs_background": "light"
     },
     "output_type": "display_data"
    }
   ],
   "source": [
    "from matplotlib import pyplot as plt\n",
    "%matplotlib inline\n",
    "#plot regression against actual data\n",
    "plt.figure(figsize=(12,6))\n",
    "plt.plot(X,ypred) #regression line\n",
    "plt.plot(X,y,'ro') #scatter plot showing actual data\n",
    "plt.title('Actual Vs Predicted')\n",
    "plt.xlabel('X')\n",
    "plt.ylabel('y')\n",
    "plt.show()"
   ]
  },
  {
   "cell_type": "code",
   "execution_count": null,
   "id": "2ced19ea",
   "metadata": {},
   "outputs": [],
   "source": []
  }
 ],
 "metadata": {
  "kernelspec": {
   "display_name": "Python 3 (ipykernel)",
   "language": "python",
   "name": "python3"
  },
  "language_info": {
   "codemirror_mode": {
    "name": "ipython",
    "version": 3
   },
   "file_extension": ".py",
   "mimetype": "text/x-python",
   "name": "python",
   "nbconvert_exporter": "python",
   "pygments_lexer": "ipython3",
   "version": "3.9.7"
  }
 },
 "nbformat": 4,
 "nbformat_minor": 5
}
